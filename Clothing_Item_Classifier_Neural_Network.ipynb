{
  "nbformat": 4,
  "nbformat_minor": 0,
  "metadata": {
    "colab": {
      "name": "Clothing Item Classifier Neural Network.ipynb",
      "provenance": [],
      "collapsed_sections": []
    },
    "kernelspec": {
      "name": "python3",
      "display_name": "Python 3"
    }
  },
  "cells": [
    {
      "cell_type": "markdown",
      "metadata": {
        "id": "Tyt0UleuEAJD",
        "colab_type": "text"
      },
      "source": [
        "# A neural network to classify clothing items\n",
        "The neural network will take a grayscale image and identify the type of clothing item or apparel it is ('t-shirt', 'dress', 'shoe', 'sandal', 'jeans', etc.)\n",
        "\n",
        "\n"
      ]
    },
    {
      "cell_type": "markdown",
      "metadata": {
        "id": "CtuHXJJbEjJf",
        "colab_type": "text"
      },
      "source": [
        "## Setting up and getting the data ready\n",
        "First, get the required imports before loading in the data. The Keras library in TensorFlow will be used here primarily."
      ]
    },
    {
      "cell_type": "code",
      "metadata": {
        "id": "l0Ft8eQVFyPE",
        "colab_type": "code",
        "colab": {}
      },
      "source": [
        "# TensorFlow and tf.keras\n",
        "import tensorflow as tf\n",
        "from tensorflow import keras\n",
        "\n",
        "# Helper libraries\n",
        "import numpy as np\n",
        "import matplotlib.pyplot as plt"
      ],
      "execution_count": 2,
      "outputs": []
    },
    {
      "cell_type": "markdown",
      "metadata": {
        "id": "OReSKJDKFwaH",
        "colab_type": "text"
      },
      "source": [
        "Keras already comes with a library of 70,000 examples, including 10,000 for testing, of 28x28 pixels."
      ]
    },
    {
      "cell_type": "code",
      "metadata": {
        "id": "LrfPDTdrF63u",
        "colab_type": "code",
        "colab": {
          "base_uri": "https://localhost:8080/",
          "height": 175
        },
        "outputId": "7157c98f-48a5-4b19-d0c2-4c577b99404f"
      },
      "source": [
        "# Import the data from Keras, it will automatically download it for us\n",
        "(train_images, train_labels), (test_images, test_labels) = keras.datasets.fashion_mnist.load_data()"
      ],
      "execution_count": 3,
      "outputs": [
        {
          "output_type": "stream",
          "text": [
            "Downloading data from https://storage.googleapis.com/tensorflow/tf-keras-datasets/train-labels-idx1-ubyte.gz\n",
            "32768/29515 [=================================] - 0s 0us/step\n",
            "Downloading data from https://storage.googleapis.com/tensorflow/tf-keras-datasets/train-images-idx3-ubyte.gz\n",
            "26427392/26421880 [==============================] - 0s 0us/step\n",
            "Downloading data from https://storage.googleapis.com/tensorflow/tf-keras-datasets/t10k-labels-idx1-ubyte.gz\n",
            "8192/5148 [===============================================] - 0s 0us/step\n",
            "Downloading data from https://storage.googleapis.com/tensorflow/tf-keras-datasets/t10k-images-idx3-ubyte.gz\n",
            "4423680/4422102 [==============================] - 0s 0us/step\n"
          ],
          "name": "stdout"
        },
        {
          "output_type": "execute_result",
          "data": {
            "text/plain": [
              "(60000, 28, 28)"
            ]
          },
          "metadata": {
            "tags": []
          },
          "execution_count": 3
        }
      ]
    },
    {
      "cell_type": "code",
      "metadata": {
        "id": "s7pZCwgPGfuN",
        "colab_type": "code",
        "colab": {
          "base_uri": "https://localhost:8080/",
          "height": 34
        },
        "outputId": "0e375eef-6170-4a70-b115-228e2a2d6221"
      },
      "source": [
        "print(train_images.shape) # Verify the dimensions"
      ],
      "execution_count": 4,
      "outputs": [
        {
          "output_type": "stream",
          "text": [
            "(60000, 28, 28)\n"
          ],
          "name": "stdout"
        }
      ]
    },
    {
      "cell_type": "code",
      "metadata": {
        "id": "Zc6rP8EpGjwl",
        "colab_type": "code",
        "colab": {
          "base_uri": "https://localhost:8080/",
          "height": 265
        },
        "outputId": "9b311f62-ecc9-4fa2-be79-b484774b7807"
      },
      "source": [
        "plt.figure()\n",
        "plt.imshow(train_images[498]) # These ones look like trousers\n",
        "plt.show()"
      ],
      "execution_count": 10,
      "outputs": [
        {
          "output_type": "display_data",
          "data": {
            "image/png": "[encoded data removed]",
            "text/plain": [
              "<Figure size 432x288 with 1 Axes>"
            ]
          },
          "metadata": {
            "tags": [],
            "needs_background": "light"
          }
        }
      ]
    },
    {
      "cell_type": "code",
      "metadata": {
        "id": "sHXTHFwuG4Jm",
        "colab_type": "code",
        "colab": {}
      },
      "source": [
        "# Define the class names\n",
        "CLOTH_CLASS_NAMES = ['T-shirt/top', 'Trouser', 'Pullover', 'Dress', 'Coat',\n",
        "               'Sandal', 'Shirt', 'Sneaker', 'Bag', 'Ankle boot']\n"
      ],
      "execution_count": 26,
      "outputs": []
    },
    {
      "cell_type": "markdown",
      "metadata": {
        "id": "kUTmBzLUHBgV",
        "colab_type": "text"
      },
      "source": [
        "Pre-process the data before feeding it into the neural network: get each value into the range between 0 and 1"
      ]
    },
    {
      "cell_type": "code",
      "metadata": {
        "id": "YpmjuGJwHX1T",
        "colab_type": "code",
        "colab": {}
      },
      "source": [
        "train_images = train_images / 255.0\n",
        "test_images = test_images / 255.0"
      ],
      "execution_count": 12,
      "outputs": []
    },
    {
      "cell_type": "markdown",
      "metadata": {
        "id": "19sxBjN4Hczd",
        "colab_type": "text"
      },
      "source": [
        "## Creating the model\n",
        "We will use a feed-forward neural network (specifically, a Keras sequential model) with 3 layers : 1 input, 1 hidden, 1 output.\n",
        "\n",
        "The '**softmax**' activation function for the output layer allows us to create a probability distribution function for each output class between 0 to 1 where 1 represents the chance of the input being that item."
      ]
    },
    {
      "cell_type": "code",
      "metadata": {
        "id": "JyckkbulH6fw",
        "colab_type": "code",
        "colab": {}
      },
      "source": [
        "model = keras.Sequential([\n",
        "    keras.layers.Flatten(input_shape=(28, 28)),  # Flatten the layer to transform a 28x28 pixel image into 784 neurons\n",
        "    keras.layers.Dense(128, activation='relu'),  # Fully connected layer with 128 neurons and rectify linear unit activation\n",
        "    keras.layers.Dense(10, activation='softmax') # Fully connected output layer with 10 neurons for the 10 classes\n",
        "])"
      ],
      "execution_count": 14,
      "outputs": []
    },
    {
      "cell_type": "markdown",
      "metadata": {
        "id": "yQrM0UnnI7dV",
        "colab_type": "text"
      },
      "source": [
        "We will use a stochastic gradient descent optimizer for this neural network ( 'adam'). It's an efficient algorithm that allows us to train this neural network on even a simple computer.\n",
        "\n",
        "Sparse categorical crossentropy uses integers rather than full vectors, so it too is efficient in memory usage and computation.\n",
        "\n",
        "For metrics, we will just monitor the accuracy over time.\n"
      ]
    },
    {
      "cell_type": "code",
      "metadata": {
        "id": "DSeo5xGoIxHb",
        "colab_type": "code",
        "colab": {}
      },
      "source": [
        "# Compile the model\n",
        "model.compile(optimizer='adam',\n",
        "              loss='sparse_categorical_crossentropy',\n",
        "              metrics=['accuracy'])"
      ],
      "execution_count": 15,
      "outputs": []
    },
    {
      "cell_type": "markdown",
      "metadata": {
        "id": "mxixbywkLB69",
        "colab_type": "text"
      },
      "source": [
        "## Train the model\n",
        "Using the data that we retrieved and our model above, we can now begin training."
      ]
    },
    {
      "cell_type": "code",
      "metadata": {
        "id": "LDCx4jUhLIZY",
        "colab_type": "code",
        "colab": {
          "base_uri": "https://localhost:8080/",
          "height": 386
        },
        "outputId": "faef5986-182e-4535-f9b8-789093a37763"
      },
      "source": [
        "model.fit(train_images, train_labels, epochs=10)  # Use 10 epochs"
      ],
      "execution_count": 16,
      "outputs": [
        {
          "output_type": "stream",
          "text": [
            "Epoch 1/10\n",
            "1875/1875 [==============================] - 4s 2ms/step - loss: 0.4964 - accuracy: 0.8256\n",
            "Epoch 2/10\n",
            "1875/1875 [==============================] - 4s 2ms/step - loss: 0.3708 - accuracy: 0.8664\n",
            "Epoch 3/10\n",
            "1875/1875 [==============================] - 3s 2ms/step - loss: 0.3340 - accuracy: 0.8783\n",
            "Epoch 4/10\n",
            "1875/1875 [==============================] - 3s 2ms/step - loss: 0.3085 - accuracy: 0.8880\n",
            "Epoch 5/10\n",
            "1875/1875 [==============================] - 3s 2ms/step - loss: 0.2925 - accuracy: 0.8923\n",
            "Epoch 6/10\n",
            "1875/1875 [==============================] - 3s 2ms/step - loss: 0.2777 - accuracy: 0.8962\n",
            "Epoch 7/10\n",
            "1875/1875 [==============================] - 3s 2ms/step - loss: 0.2665 - accuracy: 0.9014\n",
            "Epoch 8/10\n",
            "1875/1875 [==============================] - 3s 2ms/step - loss: 0.2539 - accuracy: 0.9061\n",
            "Epoch 9/10\n",
            "1875/1875 [==============================] - 3s 2ms/step - loss: 0.2452 - accuracy: 0.9070\n",
            "Epoch 10/10\n",
            "1875/1875 [==============================] - 3s 2ms/step - loss: 0.2385 - accuracy: 0.9111\n"
          ],
          "name": "stdout"
        },
        {
          "output_type": "execute_result",
          "data": {
            "text/plain": [
              "<tensorflow.python.keras.callbacks.History at 0x7f88d9dd46a0>"
            ]
          },
          "metadata": {
            "tags": []
          },
          "execution_count": 16
        }
      ]
    },
    {
      "cell_type": "markdown",
      "metadata": {
        "id": "6g1NRjj9LgrC",
        "colab_type": "text"
      },
      "source": [
        "## Evluate the model on the test data\n",
        "Should be around 88 - 90%\n"
      ]
    },
    {
      "cell_type": "code",
      "metadata": {
        "id": "4SZS1oCxLlWl",
        "colab_type": "code",
        "colab": {
          "base_uri": "https://localhost:8080/",
          "height": 52
        },
        "outputId": "ecd7c7bf-0c2d-44ca-c95c-c55b1d75479f"
      },
      "source": [
        "test_loss, test_acc = model.evaluate(test_images,  test_labels, verbose=1) \n",
        "\n",
        "print('Accuracy for test data:', test_acc)"
      ],
      "execution_count": 17,
      "outputs": [
        {
          "output_type": "stream",
          "text": [
            "313/313 [==============================] - 0s 1ms/step - loss: 0.3512 - accuracy: 0.8799\n",
            "Accuracy for test data: 0.8798999786376953\n"
          ],
          "name": "stdout"
        }
      ]
    },
    {
      "cell_type": "markdown",
      "metadata": {
        "id": "sBMKpp2zL_zV",
        "colab_type": "text"
      },
      "source": [
        "Now, we  can make predictions and check it against the data.\n"
      ]
    },
    {
      "cell_type": "code",
      "metadata": {
        "id": "ef-XzDcAMs5m",
        "colab_type": "code",
        "colab": {
          "base_uri": "https://localhost:8080/",
          "height": 52
        },
        "outputId": "a62f8310-7514-4eff-dffb-009891795b29"
      },
      "source": [
        "# Will return the predictions as an array of arrays of predictions (with probability for each class)\n",
        "preds = model.predict(test_images)"
      ],
      "execution_count": 18,
      "outputs": [
        {
          "output_type": "stream",
          "text": [
            "[4.0126309e-07 4.0899412e-10 7.6172385e-10 2.1640472e-09 4.4319128e-11\n",
            " 1.3650031e-04 3.8341682e-08 3.8067773e-03 3.9878472e-08 9.9605632e-01]\n"
          ],
          "name": "stdout"
        }
      ]
    },
    {
      "cell_type": "markdown",
      "metadata": {
        "id": "w7qxBpAaNpjS",
        "colab_type": "text"
      },
      "source": [
        "Let's test it out by plotting the image and comparing the model's prediction against the given label."
      ]
    },
    {
      "cell_type": "code",
      "metadata": {
        "id": "MS3L5vCzNBWO",
        "colab_type": "code",
        "colab": {
          "base_uri": "https://localhost:8080/",
          "height": 300
        },
        "outputId": "ca57213a-7723-4136-a456-549b336eefc1"
      },
      "source": [
        "TEST_IMAGE_INDEX = 7\n",
        "plt.figure()\n",
        "plt.imshow(test_images[TEST_IMAGE_INDEX]) \n",
        "plt.show()\n",
        "print(\"NN Prediction: \" + CLOTH_CLASS_NAMES[np.argmax(preds[TEST_IMAGE_INDEX])])\n",
        "print(\"Actual value: \" + CLOTH_CLASS_NAMES[test_labels[TEST_IMAGE_INDEX]])\n"
      ],
      "execution_count": 36,
      "outputs": [
        {
          "output_type": "display_data",
          "data": {
            "image/png": "[encoded data removed]",
            "text/plain": [
              "<Figure size 432x288 with 1 Axes>"
            ]
          },
          "metadata": {
            "tags": [],
            "needs_background": "light"
          }
        },
        {
          "output_type": "stream",
          "text": [
            "NN Prediction: Shirt\n",
            "Actual value: Shirt\n"
          ],
          "name": "stdout"
        }
      ]
    }
  ]
}